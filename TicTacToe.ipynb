{
 "cells": [
  {
   "cell_type": "code",
   "execution_count": 1,
   "id": "88e0011d",
   "metadata": {},
   "outputs": [],
   "source": [
    "def game_start():\n",
    "    print(\"Welcome to Tic-Tac-Toe!\")\n",
    "    start_sym_vaild = True\n",
    "    ready_vaild = True\n",
    "    while start_sym_vaild or ready_vaild:\n",
    "        start_symbol = input(\"Player 1: Do you want to be X or O?\")\n",
    "        if start_symbol == \"X\" or start_symbol == \"O\":\n",
    "            start_sym_vaild = False\n",
    "            print(\"Player 1 will go first.\")\n",
    "            while ready_vaild:\n",
    "                ready_input = input(\"Are you ready to play? (Y or N)\")\n",
    "                if ready_input == \"Y\":\n",
    "                    ready_vaild = False\n",
    "                elif ready_input == \"N\":\n",
    "                    break\n",
    "                else:\n",
    "                    print(\"Please select Y or N.\")\n",
    "        else:\n",
    "            print(\"Please select X or O.\")\n",
    "    return start_symbol"
   ]
  },
  {
   "cell_type": "code",
   "execution_count": 2,
   "id": "08bb92e0",
   "metadata": {},
   "outputs": [],
   "source": [
    "def game_display(r):\n",
    "    print(\" {} | {} | {} \".format(r[0],r[1],r[2]))\n",
    "    print(\"-----------\")\n",
    "    print(\" {} | {} | {} \".format(r[3],r[4],r[5]))\n",
    "    print(\"-----------\")\n",
    "    print(\" {} | {} | {} \".format(r[6],r[7],r[8]))"
   ]
  },
  {
   "cell_type": "code",
   "execution_count": 12,
   "id": "b5c3ad1f",
   "metadata": {},
   "outputs": [],
   "source": [
    "def check_win(r,player,number_of_turn):\n",
    "    win = True\n",
    "    print(r)\n",
    "    if ((r[0] == r[1] == r[2] and r[0] != \" \") or (r[3] == r[4] == r[5] and r[3] != \" \") or (r[6] == r[7] == r[8] and r[6] != \" \") or (r[0] == r[3] == r[6] and r[0] != \" \") or (r[1] == r[4] == r[7] and r[1] != \" \") or (r[2] == r[5] == r[8] and r[2] != \" \") or (r[0] == r[4] == r[8] and r[0] != \" \") or (r[2] == r[4] == r[6] and r[2] != \" \")):\n",
    "        print(\"Congratulation! Player {} wins!\".format(player))\n",
    "    elif number_of_turn == 9:\n",
    "        print(\"Draw!\")\n",
    "    else:\n",
    "        win = False\n",
    "    return win"
   ]
  },
  {
   "cell_type": "code",
   "execution_count": 4,
   "id": "aa6e201e",
   "metadata": {},
   "outputs": [],
   "source": [
    "def game_choose_position(sym, r):\n",
    "    count = 0\n",
    "    position_input = \"\"\n",
    "    symbol = \"\"\n",
    "    for i in range(0,9):\n",
    "        which_player = 2\n",
    "        if i % 2 == 0:\n",
    "            which_player = 1\n",
    "            symbol = sym\n",
    "        else:\n",
    "            if sym == \"X\":\n",
    "                symbol = \"O\"\n",
    "            else:\n",
    "                symbol = \"X\"\n",
    "        input_vaild = True\n",
    "        position_vaild = True\n",
    "        while input_vaild or position_vaild:\n",
    "            position_input = input(\"Player {}, please choose your next position: (1-9)\".format(which_player))\n",
    "            try:\n",
    "                int(position_input)\n",
    "            except:\n",
    "                print(\"Please choose (1-9)\")\n",
    "            else:\n",
    "                position_input = int(position_input) - 1\n",
    "                if position_input in range(0,9):\n",
    "                    input_vaild = False\n",
    "                    if r[position_input] == \" \":\n",
    "                        r[position_input] = symbol\n",
    "                        game_display(r)\n",
    "                        position_vaild = False\n",
    "                        count += 1\n",
    "                        if check_win(r,which_player,count):\n",
    "                            return\n",
    "                    else:\n",
    "                        print(\"The position is taken. Please choose again.\")\n",
    "                else:\n",
    "                    print(\"Please choose (1-9)\")"
   ]
  },
  {
   "cell_type": "code",
   "execution_count": 5,
   "id": "6d0419b5",
   "metadata": {},
   "outputs": [],
   "source": [
    "def restart_game():\n",
    "    restart_vaild = True\n",
    "    while restart_vaild:\n",
    "        restart_choice = input(\"Do you want to play again? (Y or N)\")\n",
    "        if restart_choice == \"Y\":\n",
    "            return True\n",
    "        elif restart_choice == \"N\":\n",
    "            print(\"Goodbye!\")\n",
    "            return False\n",
    "        else:\n",
    "            print(\"Invaild input. Please choose Y or N\")"
   ]
  },
  {
   "cell_type": "code",
   "execution_count": 6,
   "id": "63bc3ac8",
   "metadata": {},
   "outputs": [],
   "source": [
    "def game_run():\n",
    "    run_game = True\n",
    "    while run_game:\n",
    "        start_symbol = \"\"\n",
    "        row = [\" \",\" \",\" \",\" \",\" \",\" \",\" \",\" \",\" \"]\n",
    "        start_symbol = game_start()\n",
    "        game_choose_position(start_symbol, row)\n",
    "        run_game = restart_game()"
   ]
  },
  {
   "cell_type": "code",
   "execution_count": null,
   "id": "db474552",
   "metadata": {},
   "outputs": [],
   "source": []
  }
 ],
 "metadata": {
  "kernelspec": {
   "display_name": "Python 3 (ipykernel)",
   "language": "python",
   "name": "python3"
  },
  "language_info": {
   "codemirror_mode": {
    "name": "ipython",
    "version": 3
   },
   "file_extension": ".py",
   "mimetype": "text/x-python",
   "name": "python",
   "nbconvert_exporter": "python",
   "pygments_lexer": "ipython3",
   "version": "3.9.12"
  }
 },
 "nbformat": 4,
 "nbformat_minor": 5
}
